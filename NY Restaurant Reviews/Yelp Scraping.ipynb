{
 "cells": [
  {
   "cell_type": "code",
   "execution_count": 6,
   "metadata": {},
   "outputs": [],
   "source": [
    "#import urllib2\n",
    "from bs4 import BeautifulSoup\n",
    "import pandas as pd\n",
    "import requests\n",
    "from lxml import html\n",
    "import string"
   ]
  },
  {
   "cell_type": "code",
   "execution_count": 27,
   "metadata": {},
   "outputs": [],
   "source": [
    "# Grab unique url segments for each restaurant that we want to scrape as a list\n",
    "# CUISINES = ['woorijip-authentic-korean-food-new-york',\n",
    "#                'barn-joo-35-new-york',\n",
    "#                'her-name-is-han-new-york-3',\n",
    "#                'jongro-bbq-new-york-3',\n",
    "#                'tofu-tofu-new-york-5', \n",
    "#                'aska-brooklyn-3', \n",
    "#                'aquavit-new-york', \n",
    "#                'nordic-preserves-fish-and-wildlife-company-new-york', \n",
    "#                'agern-new-york', \n",
    "#                'the-copenhagen-new-york', \n",
    "#                'the-masalawala-new-york-2', \n",
    "#                'bk-jani-bushwick', \n",
    "#                'lahore-deli-new-york', \n",
    "#                'lahori-chilli-brooklyn-2', \n",
    "#                'kababish-jackson-heights', \n",
    "#                'ipanema-restaurant-new-york', \n",
    "#                'samba-kitchen-new-york-5', \n",
    "#                'villa-brazil-cafe-grill-astoria', \n",
    "#                'beco-brooklyn', \n",
    "#                'berimbau-do-brasil-new-york']\n",
    "\n",
    "CUISINES = []\n",
    "\n",
    "#create a base url that will iterate later with the unique url segments we have in our CUISINES list\n",
    "base_urls = [ 'http://www.yelp.com/biz/%s' % s for s in CUISINES]\n",
    "reviews_per_page = 300 # Number of reviews we want for each page\n",
    "order_sequence = range(0, (reviews_per_page+1), 40)"
   ]
  },
  {
   "cell_type": "code",
   "execution_count": 28,
   "metadata": {},
   "outputs": [],
   "source": [
    "review_list = []\n",
    "date_list = []\n",
    "cuisine_list = []\n",
    "for ur in base_urls:\n",
    "    for o in order_sequence:\n",
    "        page = requests.get(ur + (\"?start=%s\" % o))\n",
    "        tree = html.fromstring(page.text)\n",
    "        \n",
    "        # this will make a list of all the reviews\n",
    "        reviews = tree.xpath('//p[@itemprop=\"description\"]/text()')\n",
    "        \n",
    "        \n",
    "        for rev in reviews:\n",
    "            rev_listry = \"\".join(filter(lambda x: x in string.printable, rev))\n",
    "            rev_listry = rev_listry.replace(\",\",\":\")\n",
    "            rev_listry = rev_listry.replace(\"\\'\",\"\")\n",
    "            review_list.append(rev_listry) \n",
    "        \n",
    "        date = tree.xpath('//meta[@itemprop=\"datePublished\"]')\n",
    "        \n",
    "        \n",
    "        for i in range(len(date)):\n",
    "            date_list.append(date[i].get(\"content\"))\n",
    "        \n",
    "        \n",
    "        for i in range(len(date)):\n",
    "            cuisine_list.append(ur)"
   ]
  },
  {
   "cell_type": "code",
   "execution_count": 29,
   "metadata": {},
   "outputs": [],
   "source": [
    "reviews_df = pd.DataFrame()\n",
    "\n",
    "reviews_df['review'] = review_list\n",
    "reviews_df['date'] = date_list\n",
    "reviews_df['restaurants'] = cuisine_list"
   ]
  },
  {
   "cell_type": "code",
   "execution_count": 30,
   "metadata": {},
   "outputs": [
    {
     "data": {
      "text/html": [
       "<div>\n",
       "<style scoped>\n",
       "    .dataframe tbody tr th:only-of-type {\n",
       "        vertical-align: middle;\n",
       "    }\n",
       "\n",
       "    .dataframe tbody tr th {\n",
       "        vertical-align: top;\n",
       "    }\n",
       "\n",
       "    .dataframe thead th {\n",
       "        text-align: right;\n",
       "    }\n",
       "</style>\n",
       "<table border=\"1\" class=\"dataframe\">\n",
       "  <thead>\n",
       "    <tr style=\"text-align: right;\">\n",
       "      <th></th>\n",
       "      <th>review</th>\n",
       "      <th>date</th>\n",
       "      <th>restaurants</th>\n",
       "    </tr>\n",
       "  </thead>\n",
       "  <tbody>\n",
       "    <tr>\n",
       "      <th>0</th>\n",
       "      <td>So Woorijip is definitely not one of those fan...</td>\n",
       "      <td>2019-11-20</td>\n",
       "      <td>http://www.yelp.com/biz/woorijip-authentic-kor...</td>\n",
       "    </tr>\n",
       "    <tr>\n",
       "      <th>1</th>\n",
       "      <td>They have a variety of Korean dishes to choose...</td>\n",
       "      <td>2019-11-10</td>\n",
       "      <td>http://www.yelp.com/biz/woorijip-authentic-kor...</td>\n",
       "    </tr>\n",
       "    <tr>\n",
       "      <th>2</th>\n",
       "      <td>When I went with my sister on a brief trip to ...</td>\n",
       "      <td>2019-11-02</td>\n",
       "      <td>http://www.yelp.com/biz/woorijip-authentic-kor...</td>\n",
       "    </tr>\n",
       "    <tr>\n",
       "      <th>3</th>\n",
       "      <td>Great place for fast comfort korean food! The ...</td>\n",
       "      <td>2019-11-26</td>\n",
       "      <td>http://www.yelp.com/biz/woorijip-authentic-kor...</td>\n",
       "    </tr>\n",
       "    <tr>\n",
       "      <th>4</th>\n",
       "      <td>I have definitely been to this shop many many ...</td>\n",
       "      <td>2019-10-23</td>\n",
       "      <td>http://www.yelp.com/biz/woorijip-authentic-kor...</td>\n",
       "    </tr>\n",
       "  </tbody>\n",
       "</table>\n",
       "</div>"
      ],
      "text/plain": [
       "                                              review        date  \\\n",
       "0  So Woorijip is definitely not one of those fan...  2019-11-20   \n",
       "1  They have a variety of Korean dishes to choose...  2019-11-10   \n",
       "2  When I went with my sister on a brief trip to ...  2019-11-02   \n",
       "3  Great place for fast comfort korean food! The ...  2019-11-26   \n",
       "4  I have definitely been to this shop many many ...  2019-10-23   \n",
       "\n",
       "                                         restaurants  \n",
       "0  http://www.yelp.com/biz/woorijip-authentic-kor...  \n",
       "1  http://www.yelp.com/biz/woorijip-authentic-kor...  \n",
       "2  http://www.yelp.com/biz/woorijip-authentic-kor...  \n",
       "3  http://www.yelp.com/biz/woorijip-authentic-kor...  \n",
       "4  http://www.yelp.com/biz/woorijip-authentic-kor...  "
      ]
     },
     "execution_count": 30,
     "metadata": {},
     "output_type": "execute_result"
    }
   ],
   "source": [
    "reviews_df.head()"
   ]
  },
  {
   "cell_type": "code",
   "execution_count": 31,
   "metadata": {},
   "outputs": [],
   "source": [
    "reviews_df.to_csv('review123.csv')"
   ]
  },
  {
   "cell_type": "code",
   "execution_count": null,
   "metadata": {},
   "outputs": [],
   "source": []
  },
  {
   "cell_type": "code",
   "execution_count": null,
   "metadata": {},
   "outputs": [],
   "source": []
  },
  {
   "cell_type": "code",
   "execution_count": null,
   "metadata": {},
   "outputs": [],
   "source": []
  }
 ],
 "metadata": {
  "kernelspec": {
   "display_name": "Python 3",
   "language": "python",
   "name": "python3"
  },
  "language_info": {
   "codemirror_mode": {
    "name": "ipython",
    "version": 3
   },
   "file_extension": ".py",
   "mimetype": "text/x-python",
   "name": "python",
   "nbconvert_exporter": "python",
   "pygments_lexer": "ipython3",
   "version": "3.7.3"
  }
 },
 "nbformat": 4,
 "nbformat_minor": 2
}
