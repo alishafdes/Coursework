{
 "cells": [
  {
   "cell_type": "code",
   "execution_count": 1,
   "metadata": {},
   "outputs": [
    {
     "name": "stdout",
     "output_type": "stream",
     "text": [
      "Populating the interactive namespace from numpy and matplotlib\n"
     ]
    }
   ],
   "source": [
    "from pandas import Series, DataFrame\n",
    "import pandas as pd\n",
    "import seaborn as sns\n",
    "from sklearn.model_selection import train_test_split\n",
    "from sklearn.linear_model import LogisticRegression\n",
    "from sklearn import metrics\n",
    "%pylab inline\n",
    "\n",
    "aisles = pd.read_csv(\"aisles.csv\")\n",
    "orders = pd.read_csv(\"orders.csv\")\n",
    "departments = pd.read_csv(\"departments.csv\")\n",
    "products = pd.read_csv(\"products.csv\")\n",
    "orders_products = pd.read_csv(\"order_products__train.csv\")"
   ]
  },
  {
   "cell_type": "code",
   "execution_count": 2,
   "metadata": {},
   "outputs": [
    {
     "data": {
      "text/html": [
       "<div>\n",
       "<style scoped>\n",
       "    .dataframe tbody tr th:only-of-type {\n",
       "        vertical-align: middle;\n",
       "    }\n",
       "\n",
       "    .dataframe tbody tr th {\n",
       "        vertical-align: top;\n",
       "    }\n",
       "\n",
       "    .dataframe thead th {\n",
       "        text-align: right;\n",
       "    }\n",
       "</style>\n",
       "<table border=\"1\" class=\"dataframe\">\n",
       "  <thead>\n",
       "    <tr style=\"text-align: right;\">\n",
       "      <th></th>\n",
       "      <th>order_id</th>\n",
       "      <th>user_id</th>\n",
       "      <th>order_number</th>\n",
       "      <th>order_dow</th>\n",
       "      <th>order_hour_of_day</th>\n",
       "      <th>days_since_prior_order</th>\n",
       "      <th>product_id</th>\n",
       "      <th>add_to_cart_order</th>\n",
       "      <th>reordered</th>\n",
       "      <th>product_name</th>\n",
       "      <th>aisle_id</th>\n",
       "      <th>department_id</th>\n",
       "      <th>aisle</th>\n",
       "      <th>department</th>\n",
       "    </tr>\n",
       "  </thead>\n",
       "  <tbody>\n",
       "    <tr>\n",
       "      <th>0</th>\n",
       "      <td>1187899</td>\n",
       "      <td>1</td>\n",
       "      <td>11</td>\n",
       "      <td>4</td>\n",
       "      <td>8</td>\n",
       "      <td>14.0</td>\n",
       "      <td>196</td>\n",
       "      <td>1</td>\n",
       "      <td>1</td>\n",
       "      <td>Soda</td>\n",
       "      <td>77</td>\n",
       "      <td>7</td>\n",
       "      <td>soft drinks</td>\n",
       "      <td>beverages</td>\n",
       "    </tr>\n",
       "    <tr>\n",
       "      <th>1</th>\n",
       "      <td>2757217</td>\n",
       "      <td>67</td>\n",
       "      <td>25</td>\n",
       "      <td>0</td>\n",
       "      <td>11</td>\n",
       "      <td>5.0</td>\n",
       "      <td>196</td>\n",
       "      <td>1</td>\n",
       "      <td>1</td>\n",
       "      <td>Soda</td>\n",
       "      <td>77</td>\n",
       "      <td>7</td>\n",
       "      <td>soft drinks</td>\n",
       "      <td>beverages</td>\n",
       "    </tr>\n",
       "    <tr>\n",
       "      <th>2</th>\n",
       "      <td>632715</td>\n",
       "      <td>676</td>\n",
       "      <td>12</td>\n",
       "      <td>0</td>\n",
       "      <td>13</td>\n",
       "      <td>26.0</td>\n",
       "      <td>196</td>\n",
       "      <td>2</td>\n",
       "      <td>1</td>\n",
       "      <td>Soda</td>\n",
       "      <td>77</td>\n",
       "      <td>7</td>\n",
       "      <td>soft drinks</td>\n",
       "      <td>beverages</td>\n",
       "    </tr>\n",
       "    <tr>\n",
       "      <th>3</th>\n",
       "      <td>1167274</td>\n",
       "      <td>760</td>\n",
       "      <td>5</td>\n",
       "      <td>4</td>\n",
       "      <td>10</td>\n",
       "      <td>8.0</td>\n",
       "      <td>196</td>\n",
       "      <td>2</td>\n",
       "      <td>1</td>\n",
       "      <td>Soda</td>\n",
       "      <td>77</td>\n",
       "      <td>7</td>\n",
       "      <td>soft drinks</td>\n",
       "      <td>beverages</td>\n",
       "    </tr>\n",
       "    <tr>\n",
       "      <th>4</th>\n",
       "      <td>3347074</td>\n",
       "      <td>804</td>\n",
       "      <td>16</td>\n",
       "      <td>3</td>\n",
       "      <td>21</td>\n",
       "      <td>5.0</td>\n",
       "      <td>196</td>\n",
       "      <td>4</td>\n",
       "      <td>0</td>\n",
       "      <td>Soda</td>\n",
       "      <td>77</td>\n",
       "      <td>7</td>\n",
       "      <td>soft drinks</td>\n",
       "      <td>beverages</td>\n",
       "    </tr>\n",
       "  </tbody>\n",
       "</table>\n",
       "</div>"
      ],
      "text/plain": [
       "   order_id  user_id  order_number  order_dow  order_hour_of_day  \\\n",
       "0   1187899        1            11          4                  8   \n",
       "1   2757217       67            25          0                 11   \n",
       "2    632715      676            12          0                 13   \n",
       "3   1167274      760             5          4                 10   \n",
       "4   3347074      804            16          3                 21   \n",
       "\n",
       "   days_since_prior_order  product_id  add_to_cart_order  reordered  \\\n",
       "0                    14.0         196                  1          1   \n",
       "1                     5.0         196                  1          1   \n",
       "2                    26.0         196                  2          1   \n",
       "3                     8.0         196                  2          1   \n",
       "4                     5.0         196                  4          0   \n",
       "\n",
       "  product_name  aisle_id  department_id        aisle department  \n",
       "0         Soda        77              7  soft drinks  beverages  \n",
       "1         Soda        77              7  soft drinks  beverages  \n",
       "2         Soda        77              7  soft drinks  beverages  \n",
       "3         Soda        77              7  soft drinks  beverages  \n",
       "4         Soda        77              7  soft drinks  beverages  "
      ]
     },
     "execution_count": 2,
     "metadata": {},
     "output_type": "execute_result"
    }
   ],
   "source": [
    "df=orders.merge(orders_products,left_on='order_id',right_on='order_id')\n",
    "df1=df.merge(products,left_on='product_id',right_on='product_id')\n",
    "df2=df1.merge(aisles,left_on='aisle_id',right_on='aisle_id')\n",
    "df3=df2.merge(departments,left_on='department_id',right_on='department_id')\n",
    "df4 = df3.drop(columns='eval_set',axis=1)\n",
    "df4.head()"
   ]
  },
  {
   "cell_type": "markdown",
   "metadata": {},
   "source": [
    "## The most popular aisle, department, and product  "
   ]
  },
  {
   "cell_type": "code",
   "execution_count": 3,
   "metadata": {},
   "outputs": [
    {
     "data": {
      "text/plain": [
       "Text(0.5,1,'Frequency of orders by department')"
      ]
     },
     "execution_count": 3,
     "metadata": {},
     "output_type": "execute_result"
    },
    {
     "data": {
      "image/png": "[encoded data removed]",
      "text/plain": [
       "<Figure size 432x288 with 1 Axes>"
      ]
     },
     "metadata": {
      "needs_background": "light"
     },
     "output_type": "display_data"
    }
   ],
   "source": [
    "df4['department'].value_counts().plot(kind='bar')\n",
    "xlabel('Department')\n",
    "ylabel('Number of orders')\n",
    "title('Frequency of orders by department')"
   ]
  },
  {
   "cell_type": "code",
   "execution_count": 4,
   "metadata": {},
   "outputs": [
    {
     "data": {
      "text/plain": [
       "Text(0.5,1,'Top 20 products ordered')"
      ]
     },
     "execution_count": 4,
     "metadata": {},
     "output_type": "execute_result"
    },
    {
     "data": {
      "image/png": "[encoded data removed]",
      "text/plain": [
       "<Figure size 432x288 with 1 Axes>"
      ]
     },
     "metadata": {
      "needs_background": "light"
     },
     "output_type": "display_data"
    }
   ],
   "source": [
    "# Plot top 20 products ordered\n",
    "df4.groupby(['product_name'])['order_id'].count().sort_values(ascending = False)[:20].plot(kind = 'bar',color='green')\n",
    "xlabel('Product')\n",
    "ylabel('Number of orders')\n",
    "title('Top 20 products ordered')"
   ]
  },
  {
   "cell_type": "code",
   "execution_count": 5,
   "metadata": {},
   "outputs": [
    {
     "data": {
      "text/plain": [
       "Text(0.5,1,'Frequency of orders by aisle')"
      ]
     },
     "execution_count": 5,
     "metadata": {},
     "output_type": "execute_result"
    },
    {
     "data": {
      "image/png": "[encoded data removed]",
      "text/plain": [
       "<Figure size 432x288 with 1 Axes>"
      ]
     },
     "metadata": {
      "needs_background": "light"
     },
     "output_type": "display_data"
    }
   ],
   "source": [
    "mask = (df3['aisle']!='missing')\n",
    "non_missing_aisle = df3[mask]\n",
    "non_missing_aisle['aisle'].nunique() # 133 aisles \n",
    "non_missing_aisle['aisle'].value_counts()[:10].plot(kind=\"bar\", color='red') # the most popular aisle \n",
    "xlabel('Aisle')\n",
    "ylabel('Number of orders')\n",
    "title('Frequency of orders by aisle')"
   ]
  },
  {
   "cell_type": "markdown",
   "metadata": {},
   "source": [
    "### Organic vs Non-organic Produce"
   ]
  },
  {
   "cell_type": "code",
   "execution_count": 6,
   "metadata": {},
   "outputs": [
    {
     "data": {
      "text/plain": [
       "Text(0,0.5,'Fraction of Total Purchases')"
      ]
     },
     "execution_count": 6,
     "metadata": {},
     "output_type": "execute_result"
    },
    {
     "data": {
      "image/png": "[encoded data removed]",
      "text/plain": [
       "<Figure size 432x288 with 1 Axes>"
      ]
     },
     "metadata": {
      "needs_background": "light"
     },
     "output_type": "display_data"
    }
   ],
   "source": [
    "produce = df3[df3['department']=='produce']\n",
    "def is_organic(x):\n",
    "    phrase = x.lower().split() \n",
    "    return 'organic' in phrase\n",
    "mask_produce = produce['product_name'].map(is_organic)\n",
    "\n",
    "# Compare percentages for organic and non-organic purchases\n",
    "percent_organic = len(produce[mask_produce])*1.0/len(produce)\n",
    "percent_nonorganic = len(produce[~mask_produce])*1.0/len(produce)\n",
    "produce_percent=DataFrame({'Organic':percent_organic,'Non-Organic':percent_nonorganic},index=[0])\n",
    "produce_percent.T.plot(kind='bar',legend=False)\n",
    "title('Organic vs. Non-Organic Produce')\n",
    "ylabel('Fraction of Total Purchases')"
   ]
  },
  {
   "cell_type": "code",
   "execution_count": 7,
   "metadata": {},
   "outputs": [
    {
     "data": {
      "text/plain": [
       "Text(0,0.5,'Number Purchased')"
      ]
     },
     "execution_count": 7,
     "metadata": {},
     "output_type": "execute_result"
    },
    {
     "data": {
      "image/png": "[encoded data removed]",
      "text/plain": [
       "<Figure size 432x288 with 1 Axes>"
      ]
     },
     "metadata": {
      "needs_background": "light"
     },
     "output_type": "display_data"
    }
   ],
   "source": [
    "produce[mask_produce]['product_name'].value_counts()[:10].plot(kind='bar')\n",
    "title('Most Popular Organic Produce')\n",
    "ylabel('Number Purchased')"
   ]
  },
  {
   "cell_type": "code",
   "execution_count": 8,
   "metadata": {},
   "outputs": [
    {
     "data": {
      "text/plain": [
       "Text(0,0.5,'Number Purchased')"
      ]
     },
     "execution_count": 8,
     "metadata": {},
     "output_type": "execute_result"
    },
    {
     "data": {
      "image/png": "[encoded data removed]",
      "text/plain": [
       "<Figure size 432x288 with 1 Axes>"
      ]
     },
     "metadata": {
      "needs_background": "light"
     },
     "output_type": "display_data"
    }
   ],
   "source": [
    "# Plot Non-Organic Produce\n",
    "produce[~mask_produce]['product_name'].value_counts()[:10].plot(kind='bar')\n",
    "title('Most Popular Non-Organic Produce')\n",
    "ylabel('Number Purchased')"
   ]
  },
  {
   "cell_type": "markdown",
   "metadata": {},
   "source": [
    "### Exploration of day by day purchases for select items"
   ]
  },
  {
   "cell_type": "code",
   "execution_count": 9,
   "metadata": {},
   "outputs": [
    {
     "data": {
      "text/plain": [
       "[Text(0,0,'Saturday'),\n",
       " Text(0,0,'Sunday'),\n",
       " Text(0,0,'Monday'),\n",
       " Text(0,0,'Tuesday'),\n",
       " Text(0,0,'Wednesday'),\n",
       " Text(0,0,'Thursday'),\n",
       " Text(0,0,'Friday')]"
      ]
     },
     "execution_count": 9,
     "metadata": {},
     "output_type": "execute_result"
    },
    {
     "data": {
      "image/png": "[encoded data removed]",
      "text/plain": [
       "<Figure size 432x288 with 1 Axes>"
      ]
     },
     "metadata": {
      "needs_background": "light"
     },
     "output_type": "display_data"
    }
   ],
   "source": [
    "# Find most popular ice creams\n",
    "ice_cream_mask = df4['aisle']=='ice cream ice'\n",
    "ice_cream = df4[ice_cream_mask]\n",
    "\n",
    "# When do people buy different types of ice cream\n",
    "ice_cream_hours = pd.crosstab(index=ice_cream['product_name'],columns=ice_cream['order_hour_of_day'])\n",
    "\n",
    "# Days of the week people buy ice cream\n",
    "ax1 = ice_cream['order_dow'].value_counts(sort=False).plot(kind='bar', color = 'darkcyan')\n",
    "xlabel('Day of Week')\n",
    "ylabel('Number of Orders')\n",
    "title('Ice Cream Purchase by Day of Week')\n",
    "ax1.set_xticklabels(['Saturday','Sunday','Monday','Tuesday','Wednesday','Thursday','Friday'])"
   ]
  },
  {
   "cell_type": "code",
   "execution_count": 10,
   "metadata": {},
   "outputs": [
    {
     "data": {
      "text/plain": [
       "[Text(0,0,'Saturday'),\n",
       " Text(0,0,'Sunday'),\n",
       " Text(0,0,'Monday'),\n",
       " Text(0,0,'Tuesday'),\n",
       " Text(0,0,'Wednesday'),\n",
       " Text(0,0,'Thursday'),\n",
       " Text(0,0,'Friday')]"
      ]
     },
     "execution_count": 10,
     "metadata": {},
     "output_type": "execute_result"
    },
    {
     "data": {
      "image/png": "[encoded data removed]",
      "text/plain": [
       "<Figure size 432x288 with 1 Axes>"
      ]
     },
     "metadata": {
      "needs_background": "light"
     },
     "output_type": "display_data"
    }
   ],
   "source": [
    "alcohol_mask = df3['department']=='alcohol'\n",
    "alcohol = df3[alcohol_mask]\n",
    "alcohol['product_name'].value_counts()[:10]\n",
    "# Days of the week people buy ice cream\n",
    "ax2 = alcohol['order_dow'].value_counts(sort=False).plot(kind='bar', color = 'deepskyblue')\n",
    "xlabel('Day of Week')\n",
    "ylabel('Number of Orders')\n",
    "title('Alcohol Purchases by Day of Week')\n",
    "ax2.set_xticklabels(['Saturday','Sunday','Monday','Tuesday','Wednesday','Thursday','Friday'])"
   ]
  },
  {
   "cell_type": "markdown",
   "metadata": {},
   "source": [
    "### Most popular ordered products by hour of day and day of week"
   ]
  },
  {
   "cell_type": "code",
   "execution_count": 11,
   "metadata": {},
   "outputs": [],
   "source": [
    "# Product most commonly ordered by hour\n",
    "df6 = df4[['order_id','order_hour_of_day','product_name']]\n",
    "pivoted = pd.pivot_table(df6, index = 'order_hour_of_day', columns='product_name', values = 'order_id',\n",
    "                         aggfunc=size, fill_value=0)\n",
    "#pivoted.T.idxmax().reset_index().head(20)\n"
   ]
  },
  {
   "cell_type": "code",
   "execution_count": 14,
   "metadata": {},
   "outputs": [
    {
     "data": {
      "text/html": [
       "<div>\n",
       "<style scoped>\n",
       "    .dataframe tbody tr th:only-of-type {\n",
       "        vertical-align: middle;\n",
       "    }\n",
       "\n",
       "    .dataframe tbody tr th {\n",
       "        vertical-align: top;\n",
       "    }\n",
       "\n",
       "    .dataframe thead th {\n",
       "        text-align: right;\n",
       "    }\n",
       "</style>\n",
       "<table border=\"1\" class=\"dataframe\">\n",
       "  <thead>\n",
       "    <tr style=\"text-align: right;\">\n",
       "      <th></th>\n",
       "      <th>order_hour_of_day</th>\n",
       "      <th>0_x</th>\n",
       "      <th>0_y</th>\n",
       "    </tr>\n",
       "  </thead>\n",
       "  <tbody>\n",
       "    <tr>\n",
       "      <th>0</th>\n",
       "      <td>0</td>\n",
       "      <td>125</td>\n",
       "      <td>Bag of Organic Bananas</td>\n",
       "    </tr>\n",
       "    <tr>\n",
       "      <th>1</th>\n",
       "      <td>1</td>\n",
       "      <td>69</td>\n",
       "      <td>Banana</td>\n",
       "    </tr>\n",
       "    <tr>\n",
       "      <th>2</th>\n",
       "      <td>2</td>\n",
       "      <td>47</td>\n",
       "      <td>Banana</td>\n",
       "    </tr>\n",
       "    <tr>\n",
       "      <th>3</th>\n",
       "      <td>3</td>\n",
       "      <td>26</td>\n",
       "      <td>Bag of Organic Bananas</td>\n",
       "    </tr>\n",
       "    <tr>\n",
       "      <th>4</th>\n",
       "      <td>4</td>\n",
       "      <td>27</td>\n",
       "      <td>Banana</td>\n",
       "    </tr>\n",
       "  </tbody>\n",
       "</table>\n",
       "</div>"
      ],
      "text/plain": [
       "   order_hour_of_day  0_x                     0_y\n",
       "0                  0  125  Bag of Organic Bananas\n",
       "1                  1   69                  Banana\n",
       "2                  2   47                  Banana\n",
       "3                  3   26  Bag of Organic Bananas\n",
       "4                  4   27                  Banana"
      ]
     },
     "execution_count": 14,
     "metadata": {},
     "output_type": "execute_result"
    }
   ],
   "source": [
    "chart_data = pivoted.T.max().reset_index().merge(pivoted.T.idxmax().reset_index(),\n",
    "                                                 left_on = 'order_hour_of_day',right_on = 'order_hour_of_day')\n",
    "chart_data.head()"
   ]
  },
  {
   "cell_type": "code",
   "execution_count": null,
   "metadata": {},
   "outputs": [],
   "source": [
    "chart_data['0_y'][2]"
   ]
  },
  {
   "cell_type": "code",
   "execution_count": null,
   "metadata": {},
   "outputs": [],
   "source": [
    "# Product most commonly ordered by dow\n",
    "pivoted2 = pd.pivot_table(df4[['order_id','order_dow','product_name']], \n",
    "                         index = 'order_dow', columns='product_name', values = 'order_id',\n",
    "                         aggfunc=size, fill_value=0)\n",
    "pivoted3 = pivoted2.T.idxmax().reset_index()\n",
    "def weekdays(s):\n",
    "    if s ==0:\n",
    "        return 'Saturday'\n",
    "    if s ==1:\n",
    "        return 'Sunday'\n",
    "    if s ==2:\n",
    "        return 'Monday'\n",
    "    if s ==3:\n",
    "        return 'Tuesday'\n",
    "    if s ==4:\n",
    "        return 'Wednesday'\n",
    "    if s ==5:\n",
    "        return 'Thursday'\n",
    "    if s ==6:\n",
    "        return 'Friday'\n",
    "    \n",
    "pivoted3['order_dow'] = pivoted3['order_dow'].map(weekdays)\n",
    "pivoted3"
   ]
  },
  {
   "cell_type": "markdown",
   "metadata": {},
   "source": [
    "## Peak purchasing period"
   ]
  },
  {
   "cell_type": "markdown",
   "metadata": {},
   "source": [
    "### Purchasing frequency by hour"
   ]
  },
  {
   "cell_type": "code",
   "execution_count": null,
   "metadata": {},
   "outputs": [],
   "source": [
    "# Plot frequency of orders by hour of the day\n",
    "orders.groupby(['order_hour_of_day'])['order_id'].count().plot(kind='bar', color = 'grey')\n",
    "xlabel('Hour of day')\n",
    "ylabel('Number of orders')\n",
    "title('Frequency of orders by hour of day')\n"
   ]
  },
  {
   "cell_type": "markdown",
   "metadata": {},
   "source": [
    "### Purchasing frequency by day of week"
   ]
  },
  {
   "cell_type": "code",
   "execution_count": null,
   "metadata": {},
   "outputs": [],
   "source": [
    "# Plot the frequency of orders by day of week\n",
    "ax3 = orders['order_dow'].value_counts().plot(kind='bar', color = 'maroon')\n",
    "xlabel('Day of week')\n",
    "ylabel('Number of orders')\n",
    "title('Frequency of orders by day of week')\n",
    "ax3.set_xticklabels(['Saturday','Sunday','Monday','Tuesday','Wednesday','Thursday','Friday'])"
   ]
  },
  {
   "cell_type": "code",
   "execution_count": null,
   "metadata": {},
   "outputs": [],
   "source": [
    "# Frequency of orders by hours and day of week\n",
    "# Check the day and time of the most number of orders\n",
    "day_time = df4.groupby(['order_dow','order_hour_of_day'])['order_id'].count().reset_index()\n",
    "day_time = day_time.pivot('order_dow','order_hour_of_day','order_id')\n",
    "\n",
    "fig, ax4 =plt.subplots(figsize=(7,6))\n",
    "sns.heatmap(day_time, cmap=\"Blues\").set_title('Frequency of orders by hours and day of week')\n",
    "ax4.set_yticklabels(['Saturday','Sunday','Monday','Tuesday','Wednesday','Thursday','Friday'], rotation=45)\n"
   ]
  },
  {
   "cell_type": "markdown",
   "metadata": {},
   "source": [
    "### Number of Orders By Hour on Weekdays vs Weekends"
   ]
  },
  {
   "cell_type": "code",
   "execution_count": null,
   "metadata": {},
   "outputs": [],
   "source": [
    "weekdays=orders[orders['order_dow']>1]\n",
    "weekdays['order_hour_of_day'].value_counts(sort=False).plot(kind='bar', color = 'black')\n",
    "title('Number of Orders By Hour on Weekdays')\n",
    "xlabel('Hour of Day')\n",
    "ylabel('Number of Orders')"
   ]
  },
  {
   "cell_type": "code",
   "execution_count": null,
   "metadata": {},
   "outputs": [],
   "source": [
    "weekends=orders[orders['order_dow']<2]\n",
    "weekends['order_hour_of_day'].value_counts(sort=False).plot(kind='bar', color = 'purple')\n",
    "title('Number of Orders By Hour on Weekends')\n",
    "xlabel('Hour of Day')\n",
    "ylabel('Number of Orders')"
   ]
  },
  {
   "cell_type": "markdown",
   "metadata": {},
   "source": [
    "### Frequency of orders by prior ordered"
   ]
  },
  {
   "cell_type": "code",
   "execution_count": null,
   "metadata": {},
   "outputs": [],
   "source": [
    "# Plot frequency of orders by prior ordered\n",
    "orders.groupby(['days_since_prior_order'])['order_id'].count().plot(kind='bar', color = 'teal')\n",
    "xlabel('Days since prior order')\n",
    "ylabel('Number of orders')\n",
    "title('Frequency of orders by days since prior ordered')"
   ]
  },
  {
   "cell_type": "markdown",
   "metadata": {},
   "source": [
    "## Customer Segmentation"
   ]
  },
  {
   "cell_type": "code",
   "execution_count": null,
   "metadata": {},
   "outputs": [],
   "source": [
    "user_seg = df3[['user_id','order_number']]\n",
    "user_seg=user_seg.drop_duplicates()\n",
    "user_seg[['order_number']].describe()"
   ]
  },
  {
   "cell_type": "code",
   "execution_count": null,
   "metadata": {},
   "outputs": [],
   "source": [
    "user_rare = user_seg['user_id'][user_seg['order_number']<6].drop_duplicates()\n",
    "user_often = user_seg['user_id'][(user_seg['order_number']>=6) & (user_seg['order_number']<10)].drop_duplicates()\n",
    "len(user_often) #33019\n",
    "user_very_often = user_seg['user_id'][(user_seg['order_number']>=10) & (user_seg['order_number']<=20)].drop_duplicates()\n",
    "len(user_very_often)#38086\n",
    "user_most_freq = user_seg['user_id'][user_seg['order_number']>20].drop_duplicates()\n",
    "len(user_most_freq) #32365\n",
    "weather_data = {\n",
    "\t'user_rare (0~5)': [len(user_rare)],\n",
    "\t'user_often (6~9)':[len(user_often)],\n",
    "\t'user_very_often (10~20)': [len(user_very_often)],\n",
    "\t'user_most_freq (more than 21)':[len(user_most_freq)],\n",
    "\t'Customer Seg':['No. of customers']\n",
    "}\n",
    "data = pd.DataFrame(weather_data)\n",
    "data\n",
    "columnsTitles = ['user_rare (0~5)', 'user_often (6~9)', 'user_very_often (10~20)','user_most_freq (more than 21)',\n",
    "           \t'Customer Seg']\n",
    "data = data.reindex(columns=columnsTitles)\n",
    "data\n",
    "data.set_index('Customer Seg')\n"
   ]
  },
  {
   "cell_type": "markdown",
   "metadata": {},
   "source": [
    "## Reordering"
   ]
  },
  {
   "cell_type": "code",
   "execution_count": null,
   "metadata": {},
   "outputs": [],
   "source": [
    "reordered = df4[['user_id','reordered']].drop_duplicates()\n",
    "ax3 = reordered['reordered'].value_counts().plot(kind = 'bar', color = 'darkgreen')\n",
    "ylabel('Number of orders')\n",
    "title('Number of users that reordered vs number of user that did not reorder')\n",
    "ax3.set_xticklabels(['Reordered','Ordered once'])"
   ]
  },
  {
   "cell_type": "code",
   "execution_count": null,
   "metadata": {},
   "outputs": [],
   "source": [
    "# Products having most reordered goods\n",
    "df4.pivot_table(index='department', columns='reordered', \n",
    "                values='order_id', aggfunc='sum').dropna().sort_values(by = 1, ascending = False).head(15).plot(kind='bar')\n",
    "xlabel('Deparment')\n",
    "ylabel('Number of reorders')\n",
    "title('Number of reorders based on products in the top 20 departments')"
   ]
  },
  {
   "cell_type": "code",
   "execution_count": null,
   "metadata": {},
   "outputs": [],
   "source": [
    "# Reorder count vs add to cart number\n",
    "df4.groupby(['add_to_cart_order'])['reordered'].sum().sort_values(ascending = False).plot()\n",
    "xlabel('Add to cart order')\n",
    "ylabel('Number of reorders')\n",
    "title('Reorder count vs add to cart number')"
   ]
  },
  {
   "cell_type": "markdown",
   "metadata": {},
   "source": [
    "### Logistic Regression to classify whether an organic produce will be reordered "
   ]
  },
  {
   "cell_type": "code",
   "execution_count": null,
   "metadata": {},
   "outputs": [],
   "source": [
    "from patsy import dmatrices\n",
    "df4 = df3[df3['department']=='produce']\n",
    "organic = df4[df4['product_name'].str.contains('Organic')]\n",
    "#organic.dropna(how='any',inplace=True)\n",
    "len(organic)\n",
    "\n",
    "formula = 'reordered ~ 0 + days_since_prior_order + order_number' + \\\n",
    "  ' +C(order_dow) + C(order_hour_of_day) +C(product_name)'\n",
    "Y,X = dmatrices(formula, organic, return_type = 'dataframe')\n",
    "y = Y['reordered'].values\n",
    "\n",
    "dspo_vs_reorder = pd.crosstab(organic['days_since_prior_order'], organic['reordered'])\n",
    "dspo_vs_reorder\n",
    "total_reorder = dspo_vs_reorder.apply(sum)\n",
    "total_reorder\n",
    "\n",
    "ohod_vs_reorder = pd.crosstab(organic['order_hour_of_day'], organic['reordered'])\n",
    "ohod_vs_reorder.plot(kind='bar')\n",
    "xlabel('Hour of day')\n",
    "ylabel('Number of reorders')\n",
    "title('Number of reorders based on hour of day')"
   ]
  },
  {
   "cell_type": "code",
   "execution_count": null,
   "metadata": {},
   "outputs": [],
   "source": [
    "X_train, X_test, y_train, y_test = train_test_split(X,y,test_size=0.3, random_state=1)\n",
    "model = LogisticRegression()\n",
    "result = model.fit(X_train, y_train)\n",
    "prediction_train = model.predict(X_train)\n",
    "print \"Train accuracy score is \"+str(metrics.accuracy_score(y_train, prediction_train)*100.0)+\"%\"\n",
    "prediction = model.predict(X_test)\n",
    "print \"Test accuracy score is \"+str(metrics.accuracy_score(y_test, prediction)*100.0)+\"%\"\n",
    "negative_example_in_test = len(y_test[y_test==0])\n",
    "total_examples_in_test = len(y_test)\n",
    "1-negative_example_in_test * 1.0/total_examples_in_test\n",
    "model.coef_\n",
    "weights = Series(model.coef_[0],index= X.columns.values)\n",
    "print \"The top 5 products which have most importance\"\n",
    "weights.sort_values()[:5]\n"
   ]
  },
  {
   "cell_type": "code",
   "execution_count": null,
   "metadata": {},
   "outputs": [],
   "source": []
  }
 ],
 "metadata": {
  "kernelspec": {
   "display_name": "Python 2",
   "language": "python",
   "name": "python2"
  },
  "language_info": {
   "codemirror_mode": {
    "name": "ipython",
    "version": 2
   },
   "file_extension": ".py",
   "mimetype": "text/x-python",
   "name": "python",
   "nbconvert_exporter": "python",
   "pygments_lexer": "ipython2",
   "version": "2.7.16"
  }
 },
 "nbformat": 4,
 "nbformat_minor": 2
}
